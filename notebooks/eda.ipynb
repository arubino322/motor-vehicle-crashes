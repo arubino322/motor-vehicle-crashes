{
 "cells": [
  {
   "cell_type": "code",
   "execution_count": 4,
   "id": "39a04296-f779-4f3a-a656-27a68659b7be",
   "metadata": {},
   "outputs": [
    {
     "name": "stdout",
     "output_type": "stream",
     "text": [
      "The history saving thread hit an unexpected error (OperationalError('database or disk is full')).History will not be written to the database.\n"
     ]
    },
    {
     "ename": "ModuleNotFoundError",
     "evalue": "No module named 'pandas'",
     "output_type": "error",
     "traceback": [
      "\u001b[0;31m---------------------------------------------------------------------------\u001b[0m",
      "\u001b[0;31mModuleNotFoundError\u001b[0m                       Traceback (most recent call last)",
      "Cell \u001b[0;32mIn[4], line 6\u001b[0m\n\u001b[1;32m      3\u001b[0m \u001b[38;5;28;01mimport\u001b[39;00m \u001b[38;5;21;01mshutil\u001b[39;00m\n\u001b[1;32m      4\u001b[0m \u001b[38;5;28;01mfrom\u001b[39;00m \u001b[38;5;21;01mdatetime\u001b[39;00m \u001b[38;5;28;01mimport\u001b[39;00m date, timedelta\n\u001b[0;32m----> 6\u001b[0m \u001b[38;5;28;01mimport\u001b[39;00m \u001b[38;5;21;01mpandas\u001b[39;00m \u001b[38;5;28;01mas\u001b[39;00m \u001b[38;5;21;01mpd\u001b[39;00m\n\u001b[1;32m      7\u001b[0m \u001b[38;5;28;01mimport\u001b[39;00m \u001b[38;5;21;01mrequests\u001b[39;00m\n\u001b[1;32m      8\u001b[0m \u001b[38;5;28;01mfrom\u001b[39;00m \u001b[38;5;21;01mgoogle\u001b[39;00m\u001b[38;5;21;01m.\u001b[39;00m\u001b[38;5;21;01mcloud\u001b[39;00m \u001b[38;5;28;01mimport\u001b[39;00m storage, bigquery\n",
      "\u001b[0;31mModuleNotFoundError\u001b[0m: No module named 'pandas'"
     ]
    }
   ],
   "source": [
    "import json\n",
    "import os\n",
    "import shutil\n",
    "from datetime import date, timedelta\n",
    "\n",
    "import pandas as pd\n",
    "import requests\n",
    "from google.cloud import storage, bigquery"
   ]
  },
  {
   "cell_type": "code",
   "execution_count": null,
   "id": "2e9db2ac",
   "metadata": {},
   "outputs": [],
   "source": [
    "PROJECT_ID = 'nyc-transit-426211'\n",
    "REGION = 'us-central1'\n",
    "STAGING = 'gs://motor-vehicle-crashes/collisions/2024-01-01/data.json'\n",
    "TEMP = 'gs://motor-vehicle-crashes/temp'\n",
    "HOME = '/home/andrub818'\n",
    "api_key, secret_key = os.environ['NYCT_API_KEY'], os.environ['NYCT_SECRET_KEY']"
   ]
  },
  {
   "cell_type": "markdown",
   "id": "53e4d29e-f995-42c0-9eff-53600bb71067",
   "metadata": {},
   "source": [
    "#### __API documentation__\n",
    "https://dev.socrata.com/docs/filtering\n",
    "\n",
    "#### __Cool MLOps resource__\n",
    "https://mlops-coding-course.fmind.dev/2.%20Prototyping/2.0.%20Notebooks.html"
   ]
  },
  {
   "cell_type": "code",
   "execution_count": 3,
   "id": "752fab2f-5555-483f-bae9-916c6acd7c28",
   "metadata": {},
   "outputs": [
    {
     "name": "stdout",
     "output_type": "stream",
     "text": [
      "200\n",
      "1199\n"
     ]
    },
    {
     "data": {
      "text/plain": [
       "{'unique_id': '13148026',\n",
       " 'collision_id': '4755496',\n",
       " 'crash_date': '2024-09-13T00:00:00.000',\n",
       " 'crash_time': '8:00',\n",
       " 'person_id': 'b56183d6-9751-435a-8ad9-1d40c1be906f',\n",
       " 'person_type': 'Occupant',\n",
       " 'person_injury': 'Unspecified',\n",
       " 'vehicle_id': '20747794',\n",
       " 'ped_role': 'Registrant'}"
      ]
     },
     "execution_count": 3,
     "metadata": {},
     "output_type": "execute_result"
    }
   ],
   "source": [
    "# pedestrian crash API endpoint: https://data.cityofnewyork.us/Public-Safety/Motor-Vehicle-Collisions-Person/f55k-p6yu/about_data\n",
    "\n",
    "url = \"https://data.cityofnewyork.us/resource/f55k-p6yu.json?$where=crash_date = '2024-09-13' limit 50000\"\n",
    "# url = \"https://data.cityofnewyork.us/resource/f55k-p6yu.json?$where=crash_date BETWEEN '2024-06-25T00:00:00' AND '2024-06-27T00:00:00' LIMIT 50000\"\n",
    "\n",
    "r = requests.get(url, auth=(api_key, secret_key))\n",
    "print(r.status_code)\n",
    "d = r.json()\n",
    "print(len(d))\n",
    "d[1]"
   ]
  },
  {
   "cell_type": "code",
   "execution_count": 2,
   "id": "8fcc8b17-c654-4df2-900c-3eebb5cc2467",
   "metadata": {},
   "outputs": [
    {
     "ename": "NameError",
     "evalue": "name 'requests' is not defined",
     "output_type": "error",
     "traceback": [
      "\u001b[0;31m---------------------------------------------------------------------------\u001b[0m",
      "\u001b[0;31mNameError\u001b[0m                                 Traceback (most recent call last)",
      "Cell \u001b[0;32mIn[2], line 4\u001b[0m\n\u001b[1;32m      1\u001b[0m \u001b[38;5;66;03m# motor vehicle collision API endpoint: https://data.cityofnewyork.us/Public-Safety/Motor-Vehicle-Collisions-Crashes/h9gi-nx95/about_data\u001b[39;00m\n\u001b[1;32m      2\u001b[0m \u001b[38;5;66;03m# c_url = \"https://data.cityofnewyork.us/resource/h9gi-nx95.json?$order=crash_date DESC&$limit=25\"\u001b[39;00m\n\u001b[1;32m      3\u001b[0m c_url \u001b[38;5;241m=\u001b[39m \u001b[38;5;124m\"\u001b[39m\u001b[38;5;124mhttps://data.cityofnewyork.us/resource/h9gi-nx95.json?$where=crash_date = \u001b[39m\u001b[38;5;124m'\u001b[39m\u001b[38;5;124m2024-07-22\u001b[39m\u001b[38;5;124m'\u001b[39m\u001b[38;5;124m\"\u001b[39m\n\u001b[0;32m----> 4\u001b[0m r2 \u001b[38;5;241m=\u001b[39m \u001b[43mrequests\u001b[49m\u001b[38;5;241m.\u001b[39mget(c_url, auth\u001b[38;5;241m=\u001b[39m(api_key, secret_key))\n\u001b[1;32m      5\u001b[0m \u001b[38;5;28mprint\u001b[39m(r2\u001b[38;5;241m.\u001b[39mstatus_code)\n\u001b[1;32m      6\u001b[0m d2 \u001b[38;5;241m=\u001b[39m r2\u001b[38;5;241m.\u001b[39mjson()\n",
      "\u001b[0;31mNameError\u001b[0m: name 'requests' is not defined"
     ]
    }
   ],
   "source": [
    "# motor vehicle collision API endpoint: https://data.cityofnewyork.us/Public-Safety/Motor-Vehicle-Collisions-Crashes/h9gi-nx95/about_data\n",
    "# c_url = \"https://data.cityofnewyork.us/resource/h9gi-nx95.json?$order=crash_date DESC&$limit=25\"\n",
    "c_url = \"https://data.cityofnewyork.us/resource/h9gi-nx95.json?$where=crash_date = '2024-07-22'\"\n",
    "r2 = requests.get(c_url, auth=(api_key, secret_key))\n",
    "print(r2.status_code)\n",
    "d2 = r2.json()\n",
    "print(len(d2))\n",
    "d2[1]"
   ]
  },
  {
   "cell_type": "code",
   "execution_count": 8,
   "id": "86746d5d",
   "metadata": {},
   "outputs": [
    {
     "data": {
      "text/html": [
       "<div>\n",
       "<style scoped>\n",
       "    .dataframe tbody tr th:only-of-type {\n",
       "        vertical-align: middle;\n",
       "    }\n",
       "\n",
       "    .dataframe tbody tr th {\n",
       "        vertical-align: top;\n",
       "    }\n",
       "\n",
       "    .dataframe thead th {\n",
       "        text-align: right;\n",
       "    }\n",
       "</style>\n",
       "<table border=\"1\" class=\"dataframe\">\n",
       "  <thead>\n",
       "    <tr style=\"text-align: right;\">\n",
       "      <th></th>\n",
       "      <th>crash_date</th>\n",
       "      <th>crash_time</th>\n",
       "      <th>borough</th>\n",
       "      <th>zip_code</th>\n",
       "      <th>latitude</th>\n",
       "      <th>longitude</th>\n",
       "      <th>location</th>\n",
       "      <th>cross_street_name</th>\n",
       "      <th>number_of_persons_injured</th>\n",
       "      <th>number_of_persons_killed</th>\n",
       "      <th>...</th>\n",
       "      <th>vehicle_type_code1</th>\n",
       "      <th>on_street_name</th>\n",
       "      <th>off_street_name</th>\n",
       "      <th>vehicle_type_code2</th>\n",
       "      <th>contributing_factor_vehicle_3</th>\n",
       "      <th>vehicle_type_code_3</th>\n",
       "      <th>contributing_factor_vehicle_4</th>\n",
       "      <th>vehicle_type_code_4</th>\n",
       "      <th>contributing_factor_vehicle_5</th>\n",
       "      <th>vehicle_type_code_5</th>\n",
       "    </tr>\n",
       "  </thead>\n",
       "  <tbody>\n",
       "    <tr>\n",
       "      <th>0</th>\n",
       "      <td>2024-09-13T00:00:00.000</td>\n",
       "      <td>18:00</td>\n",
       "      <td>BROOKLYN</td>\n",
       "      <td>11208</td>\n",
       "      <td>40.67398</td>\n",
       "      <td>-73.878876</td>\n",
       "      <td>{'latitude': '40.67398', 'longitude': '-73.878...</td>\n",
       "      <td>204       ATKINS AVENUE</td>\n",
       "      <td>0</td>\n",
       "      <td>0</td>\n",
       "      <td>...</td>\n",
       "      <td>Sedan</td>\n",
       "      <td>NaN</td>\n",
       "      <td>NaN</td>\n",
       "      <td>NaN</td>\n",
       "      <td>NaN</td>\n",
       "      <td>NaN</td>\n",
       "      <td>NaN</td>\n",
       "      <td>NaN</td>\n",
       "      <td>NaN</td>\n",
       "      <td>NaN</td>\n",
       "    </tr>\n",
       "    <tr>\n",
       "      <th>1</th>\n",
       "      <td>2024-09-13T00:00:00.000</td>\n",
       "      <td>22:55</td>\n",
       "      <td>NaN</td>\n",
       "      <td>NaN</td>\n",
       "      <td>NaN</td>\n",
       "      <td>NaN</td>\n",
       "      <td>NaN</td>\n",
       "      <td>NaN</td>\n",
       "      <td>1</td>\n",
       "      <td>0</td>\n",
       "      <td>...</td>\n",
       "      <td>Sedan</td>\n",
       "      <td>ROCHESTER AVENUE</td>\n",
       "      <td>NaN</td>\n",
       "      <td>NaN</td>\n",
       "      <td>NaN</td>\n",
       "      <td>NaN</td>\n",
       "      <td>NaN</td>\n",
       "      <td>NaN</td>\n",
       "      <td>NaN</td>\n",
       "      <td>NaN</td>\n",
       "    </tr>\n",
       "    <tr>\n",
       "      <th>2</th>\n",
       "      <td>2024-09-13T00:00:00.000</td>\n",
       "      <td>19:30</td>\n",
       "      <td>MANHATTAN</td>\n",
       "      <td>10027</td>\n",
       "      <td>40.810173</td>\n",
       "      <td>-73.95117</td>\n",
       "      <td>{'latitude': '40.810173', 'longitude': '-73.95...</td>\n",
       "      <td>NaN</td>\n",
       "      <td>1</td>\n",
       "      <td>0</td>\n",
       "      <td>...</td>\n",
       "      <td>NaN</td>\n",
       "      <td>8 AVENUE</td>\n",
       "      <td>WEST 125 STREET</td>\n",
       "      <td>NaN</td>\n",
       "      <td>NaN</td>\n",
       "      <td>NaN</td>\n",
       "      <td>NaN</td>\n",
       "      <td>NaN</td>\n",
       "      <td>NaN</td>\n",
       "      <td>NaN</td>\n",
       "    </tr>\n",
       "    <tr>\n",
       "      <th>3</th>\n",
       "      <td>2024-09-13T00:00:00.000</td>\n",
       "      <td>9:41</td>\n",
       "      <td>NaN</td>\n",
       "      <td>NaN</td>\n",
       "      <td>NaN</td>\n",
       "      <td>NaN</td>\n",
       "      <td>NaN</td>\n",
       "      <td>NaN</td>\n",
       "      <td>0</td>\n",
       "      <td>0</td>\n",
       "      <td>...</td>\n",
       "      <td>Sedan</td>\n",
       "      <td>ROCKAWAY AVENUE</td>\n",
       "      <td>NaN</td>\n",
       "      <td>Sedan</td>\n",
       "      <td>NaN</td>\n",
       "      <td>NaN</td>\n",
       "      <td>NaN</td>\n",
       "      <td>NaN</td>\n",
       "      <td>NaN</td>\n",
       "      <td>NaN</td>\n",
       "    </tr>\n",
       "    <tr>\n",
       "      <th>4</th>\n",
       "      <td>2024-09-13T00:00:00.000</td>\n",
       "      <td>12:58</td>\n",
       "      <td>NaN</td>\n",
       "      <td>NaN</td>\n",
       "      <td>NaN</td>\n",
       "      <td>NaN</td>\n",
       "      <td>NaN</td>\n",
       "      <td>NaN</td>\n",
       "      <td>0</td>\n",
       "      <td>0</td>\n",
       "      <td>...</td>\n",
       "      <td>Moped</td>\n",
       "      <td>AMBOY ROAD</td>\n",
       "      <td>OLD AMBOY ROAD</td>\n",
       "      <td>Sedan</td>\n",
       "      <td>NaN</td>\n",
       "      <td>NaN</td>\n",
       "      <td>NaN</td>\n",
       "      <td>NaN</td>\n",
       "      <td>NaN</td>\n",
       "      <td>NaN</td>\n",
       "    </tr>\n",
       "  </tbody>\n",
       "</table>\n",
       "<p>5 rows × 29 columns</p>\n",
       "</div>"
      ],
      "text/plain": [
       "                crash_date crash_time    borough zip_code   latitude  \\\n",
       "0  2024-09-13T00:00:00.000      18:00   BROOKLYN    11208   40.67398   \n",
       "1  2024-09-13T00:00:00.000      22:55        NaN      NaN        NaN   \n",
       "2  2024-09-13T00:00:00.000      19:30  MANHATTAN    10027  40.810173   \n",
       "3  2024-09-13T00:00:00.000       9:41        NaN      NaN        NaN   \n",
       "4  2024-09-13T00:00:00.000      12:58        NaN      NaN        NaN   \n",
       "\n",
       "    longitude                                           location  \\\n",
       "0  -73.878876  {'latitude': '40.67398', 'longitude': '-73.878...   \n",
       "1         NaN                                                NaN   \n",
       "2   -73.95117  {'latitude': '40.810173', 'longitude': '-73.95...   \n",
       "3         NaN                                                NaN   \n",
       "4         NaN                                                NaN   \n",
       "\n",
       "         cross_street_name number_of_persons_injured number_of_persons_killed  \\\n",
       "0  204       ATKINS AVENUE                         0                        0   \n",
       "1                      NaN                         1                        0   \n",
       "2                      NaN                         1                        0   \n",
       "3                      NaN                         0                        0   \n",
       "4                      NaN                         0                        0   \n",
       "\n",
       "   ... vehicle_type_code1    on_street_name  off_street_name  \\\n",
       "0  ...              Sedan               NaN              NaN   \n",
       "1  ...              Sedan  ROCHESTER AVENUE              NaN   \n",
       "2  ...                NaN          8 AVENUE  WEST 125 STREET   \n",
       "3  ...              Sedan   ROCKAWAY AVENUE              NaN   \n",
       "4  ...              Moped        AMBOY ROAD   OLD AMBOY ROAD   \n",
       "\n",
       "  vehicle_type_code2 contributing_factor_vehicle_3 vehicle_type_code_3  \\\n",
       "0                NaN                           NaN                 NaN   \n",
       "1                NaN                           NaN                 NaN   \n",
       "2                NaN                           NaN                 NaN   \n",
       "3              Sedan                           NaN                 NaN   \n",
       "4              Sedan                           NaN                 NaN   \n",
       "\n",
       "  contributing_factor_vehicle_4 vehicle_type_code_4  \\\n",
       "0                           NaN                 NaN   \n",
       "1                           NaN                 NaN   \n",
       "2                           NaN                 NaN   \n",
       "3                           NaN                 NaN   \n",
       "4                           NaN                 NaN   \n",
       "\n",
       "  contributing_factor_vehicle_5 vehicle_type_code_5  \n",
       "0                           NaN                 NaN  \n",
       "1                           NaN                 NaN  \n",
       "2                           NaN                 NaN  \n",
       "3                           NaN                 NaN  \n",
       "4                           NaN                 NaN  \n",
       "\n",
       "[5 rows x 29 columns]"
      ]
     },
     "execution_count": 8,
     "metadata": {},
     "output_type": "execute_result"
    }
   ],
   "source": [
    "dfitem = pd.DataFrame.from_records(d2)\n",
    "dfitem.head()"
   ]
  },
  {
   "cell_type": "code",
   "execution_count": 19,
   "id": "aa09749b",
   "metadata": {},
   "outputs": [
    {
     "name": "stdout",
     "output_type": "stream",
     "text": [
      "Null latitudes:  58\n",
      "Null longitude:  58\n",
      "Null on_street_name:  95\n",
      "Null off_street_name:  168\n"
     ]
    }
   ],
   "source": [
    "print(f\"Null latitudes:  {dfitem['latitude'].isna().sum()}\")\n",
    "print(f\"Null longitude:  {dfitem['longitude'].isna().sum()}\")\n",
    "print(f\"Null on_street_name:  {dfitem['on_street_name'].isna().sum()}\")\n",
    "print(f\"Null off_street_name:  {dfitem['off_street_name'].isna().sum()}\")"
   ]
  },
  {
   "cell_type": "code",
   "execution_count": 30,
   "id": "a98e99a1",
   "metadata": {},
   "outputs": [
    {
     "name": "stdout",
     "output_type": "stream",
     "text": [
      "Null latitudes:  57\n",
      "Null longitude:  57\n"
     ]
    }
   ],
   "source": [
    "null_collision_ids = ['4755986', '4755467', '4756585', '4761079', '4756467', '4755445', '4756883', '4755511', '4755431', '4755739', '4757698', '4755567', '4757269', '4756106', '4755673', '4758926', '4755412', '4755566', '4755568', '4756357', '4756560', '4756471', '4755919', '4755898', '4755462', '4755698', '4756075', '4757348', '4761583', '4755358', '4756208', '4756611', '4758119', '4755516', '4755693', '4755591', '4755618', '4755762', '4756500', '4756974', '4757277', '4756091', '4756900', '4756652', '4755533', '4755624', '4755742', '4755512', '4758049', '4757383', '4755777', '4757049', '4755971', '4756253', '4755555', '4758998', '4755854', '4755755', '4761772', '4756385', '4755502', '4756116', '4757361', '4755999', '4755718', '4758914', '4757094', '4755600', '4755709', '4755569', '4755872', '4755887', '4755491', '4758665', '4756057', '4755561', '4755726', '4756086', '4756634', '4757883', '4756633', '4756083', '4757708', '4755806', '4755615', '4757089', '4757470', '4755544', '4758422', '4756494', '4756594', '4757038', '4757216', '4756119', '4758165', '4756292', '4755457', '4757763', '4755461', '4755792', '4756823', '4757350', '4757065', '4755837', '4756026', '4757995', '4755450', '4756535', '4756311', '4756316', '4757271', '4756178', '4756857', '4756764', '4756044', '4755655', '4756010', '4755538', '4756017', '4756308', '4756380', '4758267', '4756004', '4756346', '4756195', '4756059', '4755413', '4755425', '4756074', '4756000', '4756187', '4755590', '4755553', '4756030', '4756505', '4757463', '4759027', '4755442', '4756240', '4756315', '4755478', '4755408', '4756769', '4755529', '4755521', '4756069', '4755846', '4755917', '4756452', '4756791', '4756293', '4755448', '4756295', '4755485', '4755890', '4756194', '4755886', '4755635', '4756538', '4755764', '4756231', '4756006', '4755432', '4756297', '4755902', '4757264', '4755671', '4755974', '4755843', '4755497', '4756625', '4756321', '4755852', '4756143', '4755489', '4757262', '4755498', '4755496', '4755973', '4756262', '4756221', '4756495', '4756787', '4758124', '4758497', '4755547', '4755400', '4757716', '4755768', '4756642', '4758105', '4755855', '4756206', '4756192', '4755816', '4755939', '4755997', '4755580', '4755546', '4755975', '4755934', '4756440', '4756873', '4756935', '4758459', '4755585', '4756664', '4755987', '4755482', '4755549', '4756496', '4755586', '4755645', '4755620', '4755972', '4755460', '4755957', '4755865', '4756191', '4757653', '4755672', '4756936', '4756801', '4756671', '4755582', '4756146', '4756706', '4755646', '4756518', '4755695', '4756954', '4756482', '4755330', '4755481', '4756430', '4756101', '4755584', '4755583', '4756468', '4756332', '4757867', '4755743', '4756100', '4755784', '4755694', '4755976', '4755552', '4755805', '4755661', '4755626', '4756298', '4758676', '4757691', '4756112', '4755665', '4755612', '4756142', '4757159', '4757596', '4755519', '4755513', '4756849', '4755470', '4755510', '4756867', '4755357', '4755471', '4755759', '4756244', '4756182', '4755703', '4756546', '4755476', '4755623', '4755859', '4755480', '4756260', '4756170', '4756249', '4756163', '4758189', '4755517', '4756927', '4755621', '4756050', '4756345', '4755876', '4756156', '4758641', '4755627', '4755493', '4755468', '4756098', '4757097', '4756097', '4756110', '4756246', '4755988', '4756762', '4756054', '4756942', '4756012', '4755486', '4755909', '4755767', '4756541', '4755551', '4755556', '4756684', '4756082', '4755951', '4756181', '4755447', '4760866', '4755550',\n",
    "'4755350']\n",
    "\n",
    "nullcollisions = dfitem[dfitem['collision_id'].isin(null_collision_ids)]\n",
    "print(f\"Null latitudes:  {nullcollisions['latitude'].isna().sum()}\")\n",
    "print(f\"Null longitude:  {nullcollisions['longitude'].isna().sum()}\")\n"
   ]
  },
  {
   "cell_type": "markdown",
   "id": "cf719e08-a93c-434f-a6e2-5c9f479c46fd",
   "metadata": {},
   "source": [
    "### Overview\n",
    "\n",
    "Set up integrations for these datasets. Run them daily. Write to BQ. Seems like they're up to date as of a few days ago (When I pulled around midnight on May 17, most recent data showed May 13). Partition by day.\n",
    "\n",
    "After tables are created, join them to create more exhaustive dataset. Motor vehicle collisions have lat/long data. Questions for EDA:\n",
    "- what does a map viz look like\n",
    "- is there a location where accidents happen more often\n",
    "- people stats? age/bodily injury/death\n",
    "- what type of vehicle?\n",
    "- are certain vehicles more prone to pedestrian death (trucks obvi).\n",
    "\n",
    "Put a streamlit dashboard together that shows the stuff you want to display.\n",
    "\n",
    "After all that, what is something we can predict? and how can we operationalize it? Apply some of the skills you learned in the MLOps class."
   ]
  },
  {
   "cell_type": "code",
   "execution_count": 1,
   "id": "f07832c2-289e-4d03-8460-8ce727e73cab",
   "metadata": {},
   "outputs": [
    {
     "ename": "NameError",
     "evalue": "name 'requests' is not defined",
     "output_type": "error",
     "traceback": [
      "\u001b[0;31m---------------------------------------------------------------------------\u001b[0m",
      "\u001b[0;31mNameError\u001b[0m                                 Traceback (most recent call last)",
      "Cell \u001b[0;32mIn[1], line 1\u001b[0m\n\u001b[0;32m----> 1\u001b[0m r3 \u001b[38;5;241m=\u001b[39m \u001b[43mrequests\u001b[49m\u001b[38;5;241m.\u001b[39mget(\u001b[38;5;124m'\u001b[39m\u001b[38;5;124mhttps://data.cityofnewyork.us/resource/h9gi-nx95.json?crash_date=2024-06-12T00:00:00.000\u001b[39m\u001b[38;5;124m'\u001b[39m, auth\u001b[38;5;241m=\u001b[39m(api_key, secret_key))\n\u001b[1;32m      2\u001b[0m \u001b[38;5;28mprint\u001b[39m(r3\u001b[38;5;241m.\u001b[39mstatus_code)\n\u001b[1;32m      3\u001b[0m \u001b[38;5;28mprint\u001b[39m(\u001b[38;5;28mlen\u001b[39m(r3\u001b[38;5;241m.\u001b[39mjson()))\n",
      "\u001b[0;31mNameError\u001b[0m: name 'requests' is not defined"
     ]
    }
   ],
   "source": [
    "r3 = requests.get('https://data.cityofnewyork.us/resource/h9gi-nx95.json?crash_date=2024-06-12T00:00:00.000', auth=(api_key, secret_key))\n",
    "print(r3.status_code)\n",
    "print(len(r3.json()))\n",
    "r3.json()"
   ]
  },
  {
   "cell_type": "code",
   "execution_count": 4,
   "id": "fe5fa55c-6321-497a-850b-a5d5d802fe09",
   "metadata": {},
   "outputs": [],
   "source": [
    "# download data. arg inputs?\n",
    "# dt = (date.today() - timedelta(days=5)).strftime('%Y-%m-%d')\n",
    "dt = '2024-06-12'"
   ]
  },
  {
   "cell_type": "code",
   "execution_count": 5,
   "id": "d6174d11-75a8-4b6e-8432-a6725395b664",
   "metadata": {},
   "outputs": [
    {
     "name": "stdout",
     "output_type": "stream",
     "text": [
      "222\n"
     ]
    },
    {
     "data": {
      "text/plain": [
       "[{'crash_date': '2024-06-12T00:00:00.000',\n",
       "  'crash_time': '14:35',\n",
       "  'on_street_name': 'LONG ISLAND EXPRESSWAY',\n",
       "  'off_street_name': '188 STREET',\n",
       "  'number_of_persons_injured': '0',\n",
       "  'number_of_persons_killed': '0',\n",
       "  'number_of_pedestrians_injured': '0',\n",
       "  'number_of_pedestrians_killed': '0',\n",
       "  'number_of_cyclist_injured': '0',\n",
       "  'number_of_cyclist_killed': '0',\n",
       "  'number_of_motorist_injured': '0',\n",
       "  'number_of_motorist_killed': '0',\n",
       "  'contributing_factor_vehicle_1': 'Unspecified',\n",
       "  'contributing_factor_vehicle_2': 'Unspecified',\n",
       "  'collision_id': '4732236',\n",
       "  'vehicle_type_code1': 'Box Truck',\n",
       "  'vehicle_type_code2': 'Sedan'}]"
      ]
     },
     "execution_count": 5,
     "metadata": {},
     "output_type": "execute_result"
    }
   ],
   "source": [
    "def download_data(dt, endpoint):\n",
    "    base_url = \"https://data.cityofnewyork.us/resource/\"\n",
    "    endpoints = {\n",
    "        \"pedestrian\": \"f55k-p6yu.json\",\n",
    "        \"collision\": \"h9gi-nx95.json\"\n",
    "    }\n",
    "    ep = endpoints[endpoint]\n",
    "    params = f\"?crash_date={dt}T00:00:00.000\"\n",
    "    url = base_url + ep + params\n",
    "    response = requests.get(url, auth=(api_key, secret_key))\n",
    "    response.raise_for_status()\n",
    "    return response.json()\n",
    "\n",
    "c = download_data('2024-06-12', 'collision')\n",
    "print(len(c))\n",
    "c[:1]"
   ]
  },
  {
   "cell_type": "code",
   "execution_count": 9,
   "id": "bd41325c-2f14-45d2-8c0e-e64a95b269ef",
   "metadata": {},
   "outputs": [],
   "source": [
    "def create_tmp_dir(dt, data):\n",
    "    \"Create a tmp directory after downloading data\"\n",
    "    data_dir = os.path.join('..', 'data', 'tmp', dt)\n",
    "    \n",
    "    # create dir if it doesn't exist\n",
    "    os.makedirs(data_dir, exist_ok=True)\n",
    "    \n",
    "    # write the data to a json file\n",
    "    file_path = os.path.join(data_dir, 'data.json')\n",
    "    with open(file_path, 'w') as out:\n",
    "        for record in data:\n",
    "            json.dump(record, out)\n",
    "            out.write('\\n')\n",
    "    print(f\"data saved to {file_path}\")"
   ]
  },
  {
   "cell_type": "code",
   "execution_count": 10,
   "id": "072f6afa",
   "metadata": {},
   "outputs": [
    {
     "name": "stdout",
     "output_type": "stream",
     "text": [
      "data saved to ../data/tmp/2024-06-12/data.json\n"
     ]
    }
   ],
   "source": [
    "create_tmp_dir('2024-06-12', c)"
   ]
  },
  {
   "cell_type": "code",
   "execution_count": 11,
   "id": "e712120b-1254-446c-aab4-56a627b4f6e0",
   "metadata": {},
   "outputs": [],
   "source": [
    "def sync_to_gcs(dt, tmp_dir):\n",
    "    # source_file = tmp_dir # \"../data/tmp/2024-01-01/data.json\"\n",
    "    destination_blob_name = f\"collisions/{dt}/data.json\"\n",
    "    storage_client = storage.Client(project=PROJECT_ID)\n",
    "    bucket = storage_client.bucket('motor-vehicle-crashes')\n",
    "    blob = bucket.blob(destination_blob_name)\n",
    "    blob.upload_from_filename(tmp_dir)\n",
    "    print(f\"File {tmp_dir} uploaded to {bucket}/{destination_blob_name}.\")"
   ]
  },
  {
   "cell_type": "code",
   "execution_count": 12,
   "id": "6cb357de",
   "metadata": {},
   "outputs": [
    {
     "name": "stdout",
     "output_type": "stream",
     "text": [
      "File ../data/tmp/2024-06-12/data.json uploaded to collisions/2024-06-12/data.json.\n"
     ]
    }
   ],
   "source": [
    "sync_to_gcs(dt, '../data/tmp/2024-06-12/data.json')"
   ]
  },
  {
   "cell_type": "code",
   "execution_count": 73,
   "id": "ef09213b-6a23-48eb-b8b8-ef4121d7aa28",
   "metadata": {
    "scrolled": true
   },
   "outputs": [
    {
     "ename": "OSError",
     "evalue": "[Errno 66] Directory not empty: '../data/tmp/2024-01-01'",
     "output_type": "error",
     "traceback": [
      "\u001b[0;31m---------------------------------------------------------------------------\u001b[0m",
      "\u001b[0;31mOSError\u001b[0m                                   Traceback (most recent call last)",
      "Cell \u001b[0;32mIn[73], line 3\u001b[0m\n\u001b[1;32m      1\u001b[0m \u001b[38;5;66;03m# delete local file\u001b[39;00m\n\u001b[1;32m      2\u001b[0m \u001b[38;5;28;01mif\u001b[39;00m os\u001b[38;5;241m.\u001b[39mpath\u001b[38;5;241m.\u001b[39misfile(file_path):\n\u001b[0;32m----> 3\u001b[0m     \u001b[43mos\u001b[49m\u001b[38;5;241;43m.\u001b[39;49m\u001b[43mrmdir\u001b[49m\u001b[43m(\u001b[49m\u001b[43mdata_dir\u001b[49m\u001b[43m)\u001b[49m\n\u001b[1;32m      4\u001b[0m     \u001b[38;5;28mprint\u001b[39m(\u001b[38;5;124mf\u001b[39m\u001b[38;5;124m\"\u001b[39m\u001b[38;5;124mDirectory \u001b[39m\u001b[38;5;132;01m{\u001b[39;00mfile_path\u001b[38;5;132;01m}\u001b[39;00m\u001b[38;5;124m deleted.\u001b[39m\u001b[38;5;124m\"\u001b[39m)\n\u001b[1;32m      5\u001b[0m \u001b[38;5;28;01melse\u001b[39;00m:\n",
      "\u001b[0;31mOSError\u001b[0m: [Errno 66] Directory not empty: '../data/tmp/2024-01-01'"
     ]
    }
   ],
   "source": [
    "# delete local file.\n",
    "if os.path.isfile(file_path):\n",
    "    os.remove(file_path)\n",
    "    print(f\"File {file_path} deleted.\")\n",
    "else:\n",
    "    print(f\"File {file_path} not found.\")"
   ]
  },
  {
   "cell_type": "code",
   "execution_count": 71,
   "id": "17f6407e-fdf3-4db8-9064-1ad2b6b87295",
   "metadata": {},
   "outputs": [
    {
     "data": {
      "text/plain": [
       "'../data/tmp/2024-01-01'"
      ]
     },
     "execution_count": 71,
     "metadata": {},
     "output_type": "execute_result"
    }
   ],
   "source": [
    "def remove_local_dir(tmp_dir):\n",
    "    if path.exists(tmp_dir):\n",
    "        shutil.rmtree(tmp_dir)"
   ]
  },
  {
   "cell_type": "markdown",
   "id": "58248dda-7b53-49aa-bb91-fbb5fed279fc",
   "metadata": {},
   "source": [
    "## __Dataflow__\n",
    "\n",
    "Documentation example: https://beam.apache.org/get-started/wordcount-example/\n",
    "\n",
    "Tour of Beam: https://tour.beam.apache.org/tour/python/introduction/guide\n",
    "\n",
    "#### __Steps__:\n",
    "1. Create the pipeline object and run it with a direct runner to test locally.  You can run it with a command similar to this:\n",
    "    \n",
    "    `python -m apache_beam.examples.wordcount --input YOUR_INPUT_FILE --output counts`\n",
    "\n",
    "2. Create your pcollection from a csv file saved in a GCS bucket. Note: you can download data from NYCOpenData in csv or JSON format, I'll switch to CSV for now.\n",
    "\n",
    "3. Write the data to another GCS bucket.\n",
    "\n",
    "4. After you figured out basic io, have the input then come from an API call.\n",
    "\n",
    "5. Apply one transformation to the PCollection, formatting one of the dates so it can be recognized as a date partition in BQ (or maybe I can append a date column to the data).\n",
    "\n",
    "6. Write the data to a BQ table.\n",
    "\n",
    "7. Now process 2 files, collisions and pedestrians, to execute the same steps in parellel, writing to separate tables.\n",
    "\n",
    "8. After doing the testing with DirectRunner, update to DataflowRunner.\n",
    "\n",
    "9. Figure out how to schedule this on a regular basis.\n",
    "\n",
    "10. You now have reliable data that you can query from SQL, and take you to your next step which would be to perform more EDA, and make visualizations in a streamlit app.\n",
    "\n"
   ]
  },
  {
   "cell_type": "code",
   "execution_count": 6,
   "id": "15baf7a1-9f2a-4a16-b73c-734be9a7a284",
   "metadata": {},
   "outputs": [
    {
     "ename": "IndentationError",
     "evalue": "unexpected indent (2088034255.py, line 53)",
     "output_type": "error",
     "traceback": [
      "\u001b[0;36m  Cell \u001b[0;32mIn[6], line 53\u001b[0;36m\u001b[0m\n\u001b[0;31m    data | 'WriteToCloudStorage' >> beam.io.WriteToText(\u001b[0m\n\u001b[0m    ^\u001b[0m\n\u001b[0;31mIndentationError\u001b[0m\u001b[0;31m:\u001b[0m unexpected indent\n"
     ]
    }
   ],
   "source": [
    "# Using DirectRunner to test\n",
    "\n",
    "import argparse\n",
    "import logging\n",
    "import re\n",
    "\n",
    "import apache_beam as beam\n",
    "\n",
    "from apache_beam.io import ReadFromText\n",
    "from apache_beam.io import WriteToText\n",
    "from apache_beam.options.pipeline_options import PipelineOptions\n",
    "from apache_beam.options.pipeline_options import SetupOptions\n",
    "\n",
    "input = '/home/andrub818/motor-vehicle-crashes/notebooks/data.json'\n",
    "output = '/home/andrub818/motor-vehicle-crashes/data/output.json'\n",
    "# example command:\n",
    "# python -m apache_beam.examples.wordcount --input YOUR_INPUT_FILE --output counts\n",
    "\n",
    "\n",
    "# Output PCollection\n",
    "class Output(beam.PTransform):\n",
    "    class _OutputFn(beam.DoFn):\n",
    "\n",
    "        def process(self, element):\n",
    "            print(element)\n",
    "\n",
    "    def expand(self, input):\n",
    "        input | beam.ParDo(self._OutputFn())\n",
    "\n",
    "def main(argv=None, save_main_session=True):\n",
    "\n",
    "    parser = argparse.ArgumentParser()\n",
    "    parser.add_argument(\n",
    "        '--input',\n",
    "        dest='input',\n",
    "        default=input,\n",
    "        help='Input file to process.')\n",
    "    parser.add_argument(\n",
    "        '--output',\n",
    "        dest='output',\n",
    "        required=True,\n",
    "        help='Output file to write results to.')\n",
    "    known_args, pipeline_args = parser.parse_known_args(argv)\n",
    "\n",
    "    # We use the save_main_session option because one or more DoFn's in this\n",
    "    # workflow rely on global context (e.g., a module imported at module level).\n",
    "    pipeline_options = PipelineOptions(pipeline_args)\n",
    "    pipeline_options.view_as(SetupOptions).save_main_session = save_main_session\n",
    "\n",
    "    with beam.Pipeline(options=pipeline_options) as p:\n",
    "        # Read the text file[pattern] into a PCollection.\n",
    "        lines = p | 'Read' >> ReadFromText(known_args.input) \\\n",
    "            | beam.Filter(lambda line: line != \"\")\n",
    "\n",
    "        # Write the output using a \"Write\" transform that has side effects.\n",
    "        # pylint: disable=expression-not-assigned\n",
    "        output = lines | 'Write' >> WriteToText(known_args.output)\n",
    "\n",
    "\n",
    "        result = p.run()\n",
    "        result.wait_until_finish()\n",
    "\n",
    "\n",
    "if __name__ == '__main__':\n",
    "    logging.getLogger().setLevel(logging.INFO)\n",
    "    main()\n"
   ]
  },
  {
   "cell_type": "markdown",
   "id": "587085d8",
   "metadata": {},
   "source": [
    "Now let's do the same thing we did but using dataflow running, this time reading and writing from one GCS bucket to another. After that, let's read from a GCS bucket and write to BQ doing something like this:\n",
    "\n",
    "https://tour.beam.apache.org/tour/python/io/bigqueryio/write-table-schema\n",
    "\n",
    "You'll run it using a command like this:\n",
    "\n",
    "```\n",
    "python -m dataflow_runner \\\n",
    "    --input gs://machine-learning-workspace/motor-vehicle-crashes/collisions/2024-01-01/data.json \\\n",
    "    --output gs://machine-learning-workspace/motor-vehicle-crashes/staging/ \\\n",
    "    --runner DataflowRunner \\\n",
    "    --project prime-odyssey-415016 \\\n",
    "    --region us-central1 \\\n",
    "    --temp_location gs://machine-learning-workspace/motor-vehicle-crashes/temp/\n",
    "```"
   ]
  },
  {
   "cell_type": "markdown",
   "id": "72112cae",
   "metadata": {},
   "source": [
    "### Dataflow is overkill. Come up with a script that just uses cloud functions to schedule\n",
    "\n",
    "# Create tables"
   ]
  },
  {
   "cell_type": "code",
   "execution_count": 1,
   "id": "0849397c",
   "metadata": {},
   "outputs": [
    {
     "name": "stdout",
     "output_type": "stream",
     "text": [
      "Created table nyc-transit-426211.motor_vehicle_crashes.crashes, partitioned on column crash_date.\n"
     ]
    }
   ],
   "source": [
    "# python code to create table\n",
    "from google.cloud import bigquery\n",
    "\n",
    "# Construct a BigQuery client object.\n",
    "client = bigquery.Client(project='nyc-transit-426211')\n",
    "\n",
    "table_id = \"nyc-transit-426211.motor_vehicle_crashes.crashes\"\n",
    "\n",
    "schema = [\n",
    "    bigquery.SchemaField(\"borough\", \"STRING\"),\n",
    "    bigquery.SchemaField(\"collision_id\", \"INT64\"),\n",
    "    bigquery.SchemaField(\"contributing_factor_vehicle_1\", \"STRING\"),\n",
    "    bigquery.SchemaField(\"contributing_factor_vehicle_2\", \"STRING\"),\n",
    "    bigquery.SchemaField(\"contributing_factor_vehicle_3\", \"STRING\"),\n",
    "    bigquery.SchemaField(\"contributing_factor_vehicle_4\", \"STRING\"),\n",
    "    bigquery.SchemaField(\"crash_date\", \"DATE\"),\n",
    "    bigquery.SchemaField(\"crash_time\", \"STRING\"),\n",
    "    bigquery.SchemaField(\"cross_street_name\", \"STRING\"),\n",
    "    bigquery.SchemaField(\"latitude\", \"FLOAT64\"),\n",
    "    bigquery.SchemaField(\"longitude\", \"FLOAT64\"),\n",
    "    bigquery.SchemaField(\"number_of_cyclist_injured\", \"INT64\"),\n",
    "    bigquery.SchemaField(\"number_of_cyclist_killed\", \"INT64\"),\n",
    "    bigquery.SchemaField(\"number_of_motorist_injured\", \"INT64\"),\n",
    "    bigquery.SchemaField(\"number_of_motorist_killed\", \"INT64\"),\n",
    "    bigquery.SchemaField(\"number_of_pedestrians_injured\", \"INT64\"),\n",
    "    bigquery.SchemaField(\"number_of_pedestrians_killed\", \"INT64\"),\n",
    "    bigquery.SchemaField(\"number_of_persons_injured\", \"INT64\"),\n",
    "    bigquery.SchemaField(\"number_of_persons_killed\", \"INT64\"),\n",
    "    bigquery.SchemaField(\"off_street_name\", \"STRING\"),\n",
    "    bigquery.SchemaField(\"on_street_name\", \"STRING\"),\n",
    "    bigquery.SchemaField(\"vehicle_type_code1\", \"STRING\"),\n",
    "    bigquery.SchemaField(\"vehicle_type_code2\", \"STRING\"),\n",
    "    bigquery.SchemaField(\"vehicle_type_code_3\", \"STRING\"),\n",
    "    bigquery.SchemaField(\"vehicle_type_code_4\", \"STRING\"),\n",
    "    bigquery.SchemaField(\"vehicle_type_code_5\", \"STRING\"),\n",
    "    bigquery.SchemaField(\"zip_code\", \"INT64\")\n",
    "]\n",
    "\n",
    "table = bigquery.Table(table_id, schema=schema)\n",
    "table.time_partitioning = bigquery.TimePartitioning(\n",
    "    type_=bigquery.TimePartitioningType.DAY,\n",
    "    field=\"crash_date\"\n",
    ")\n",
    "table = client.create_table(table)  # Make an API request.\n",
    "print(\n",
    "    f\"Created table {table.project}.{table.dataset_id}.{table.table_id}, \"\n",
    "    f\"partitioned on column {table.time_partitioning.field}.\"\n",
    ")"
   ]
  },
  {
   "cell_type": "code",
   "execution_count": 3,
   "id": "d2892a45",
   "metadata": {},
   "outputs": [
    {
     "name": "stdout",
     "output_type": "stream",
     "text": [
      "Created table nyc-transit-426211.motor_vehicle_crashes.person, partitioned on column crash_date.\n"
     ]
    }
   ],
   "source": [
    "# python code to create table\n",
    "from google.cloud import bigquery\n",
    "\n",
    "# Construct a BigQuery client object.\n",
    "client = bigquery.Client(project='nyc-transit-426211')\n",
    "\n",
    "table_id = \"nyc-transit-426211.motor_vehicle_crashes.person\"\n",
    "\n",
    "schema = [\n",
    "    bigquery.SchemaField(\"bodily_injury\", \"STRING\"),\n",
    "    bigquery.SchemaField(\"collision_id\", \"INT64\"),\n",
    "    bigquery.SchemaField(\"complaint\", \"STRING\"),\n",
    "    bigquery.SchemaField(\"contributing_factor_1\", \"STRING\"),\n",
    "    bigquery.SchemaField(\"contributing_factor_2\", \"STRING\"),\n",
    "    bigquery.SchemaField(\"crash_date\", \"DATE\"),\n",
    "    bigquery.SchemaField(\"crash_time\", \"STRING\"),\n",
    "    bigquery.SchemaField(\"ejection\", \"STRING\"),\n",
    "    bigquery.SchemaField(\"emotional_status\", \"STRING\"),\n",
    "    bigquery.SchemaField(\"ped_action\", \"STRING\"),\n",
    "    bigquery.SchemaField(\"ped_location\", \"STRING\"),\n",
    "    bigquery.SchemaField(\"ped_role\", \"STRING\"),\n",
    "    bigquery.SchemaField(\"person_age\", \"INT64\"),\n",
    "    bigquery.SchemaField(\"person_id\", \"STRING\"),\n",
    "    bigquery.SchemaField(\"person_injury\", \"STRING\")\n",
    "]\n",
    "\n",
    "table = bigquery.Table(table_id, schema=schema)\n",
    "table.time_partitioning = bigquery.TimePartitioning(\n",
    "    type_=bigquery.TimePartitioningType.DAY,\n",
    "    field=\"crash_date\"\n",
    ")\n",
    "\n",
    "table = client.create_table(table)  # Make an API request.\n",
    "print(\n",
    "    f\"Created table {table.project}.{table.dataset_id}.{table.table_id}, \"\n",
    "    f\"partitioned on column {table.time_partitioning.field}.\"\n",
    ")"
   ]
  },
  {
   "cell_type": "code",
   "execution_count": 30,
   "id": "0f423277",
   "metadata": {},
   "outputs": [
    {
     "data": {
      "text/plain": [
       "'Data successfully written to BQ'"
      ]
     },
     "execution_count": 30,
     "metadata": {},
     "output_type": "execute_result"
    }
   ],
   "source": [
    "import json\n",
    "import os\n",
    "from datetime import date, timedelta, datetime\n",
    "\n",
    "import requests\n",
    "from google.cloud import bigquery\n",
    "\n",
    "def fetch_and_store(dt):\n",
    "    project_id = 'nyc-transit-426211'\n",
    "    dataset_id = 'motor_vehicle_crashes'\n",
    "    table_id = 'collisions_test'\n",
    "    api_key, secret_key = os.environ['NYCT_API_KEY'], os.environ['NYCT_SECRET_KEY']\n",
    "\n",
    "    # Define API endpoint and params\n",
    "    url = f\"https://data.cityofnewyork.us/resource/f55k-p6yu.json?$where=crash_date = '{dt}T00:00:00'\"\n",
    "    response = requests.get(url, auth=(api_key, secret_key))\n",
    "    if response.status_code != 200:\n",
    "        return f\"Error fetching data: {response.status_code}, {response.text}\"\n",
    "\n",
    "    data = response.json()\n",
    "\n",
    "    # Connect to BQ\n",
    "    client = bigquery.Client(project=project_id)\n",
    "    table_ref = client.dataset(dataset_id).table(table_id)\n",
    "    job_config = bigquery.LoadJobConfig(\n",
    "        source_format=bigquery.SourceFormat.NEWLINE_DELIMITED_JSON\n",
    "    )\n",
    "\n",
    "    # Get the table schema\n",
    "    schema = {field.name: field.field_type for field in table.schema}\n",
    "\n",
    "    rows_to_insert = []\n",
    "    for record in data:\n",
    "        formatted_record = {}\n",
    "        for key, field_type in schema.items():\n",
    "            value = record.get(key)\n",
    "            if field_type == 'DATE' and value:\n",
    "                value = datetime.strftime(datetime.strptime(value, '%Y-%m-%dT%H:%M:%S.%f'), '%Y-%m-%d')\n",
    "            formatted_record[key] = value\n",
    "        rows_to_insert.append(formatted_record)\n",
    "\n",
    "    errors = client.insert_rows_json('nyc-transit-426211.motor_vehicle_crashes.collisions_test', rows_to_insert)\n",
    "    if errors:\n",
    "        return f\"Encountered errors while inserting rows: {errors}\"\n",
    "    return \"Data successfully written to BQ\"\n",
    "\n",
    "fetch_and_store('2021-12-31')"
   ]
  },
  {
   "cell_type": "markdown",
   "id": "6a88a048",
   "metadata": {},
   "source": [
    "### __TODO__\n",
    "\n",
    "Cool. Have the create table be a separate python script, and the above cell be part of the cloud function"
   ]
  },
  {
   "cell_type": "code",
   "execution_count": null,
   "id": "5eec1609",
   "metadata": {},
   "outputs": [],
   "source": [
    "import json\n",
    "import os\n",
    "from datetime import datetime, timedelta\n",
    "\n",
    "import requests\n",
    "from flask import Request\n",
    "from google.cloud import bigquery\n",
    "\n",
    "\n",
    "def fetch_and_store(request: Request):\n",
    "    request_json = request.get_json(silent=True)\n",
    "    # if request.method == 'POST':\n",
    "    #     request_json = request.get_json(silent=True)\n",
    "    # else:\n",
    "    #     return 'Invalid request method', 405\n",
    "    project_id = 'nyc-transit-426211'\n",
    "    dataset_id = 'motor_vehicle_crashes'\n",
    "    table_id = 'collisions'\n",
    "    api_key, secret_key = os.environ['NYCT_API_KEY'], os.environ['NYCT_SECRET_KEY']\n",
    "\n",
    "    # Define API endpoint and params\n",
    "    collision_dt = (datetime.today() - timedelta(days=7)).strftime('%Y-%m-%d')\n",
    "    url = f\"https://data.cityofnewyork.us/resource/f55k-p6yu.json?$where=crash_date = '{collision_dt}T00:00:00'\"\n",
    "    response = requests.get(url, auth=(api_key, secret_key))\n",
    "    if response.status_code != 200:\n",
    "        return f\"Error fetching data: {response.status_code}, {response.text}\"\n",
    "    collisions = response.json()\n",
    "\n",
    "    # Connect to BQ\n",
    "    client = bigquery.Client(project=project_id)\n",
    "    table_ref = client.dataset(da